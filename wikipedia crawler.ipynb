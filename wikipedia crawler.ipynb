{
 "cells": [
  {
   "cell_type": "code",
   "execution_count": 6,
   "metadata": {},
   "outputs": [],
   "source": [
    "import wikipediaapi\n",
    "import wikipedia\n",
    "import re\n",
    "import difflib"
   ]
  },
  {
   "cell_type": "code",
   "execution_count": null,
   "metadata": {},
   "outputs": [],
   "source": [
    "class wiki_crawler:\n",
    "    \n",
    "    def __init__(self, word):\n",
    "        self.word = word\n",
    "    \n",
    "    def crawl(word):\n",
    "        word = word.title()\n",
    "        word = word.replace('Of','').replace('The','').replace('And','')\n",
    "        wiki_page = wikipedia.page(word)\n",
    "        content_ = word.replace(wiki_page.title,'').strip()\n",
    "\n",
    "        wiki_crawler = wikipediaapi.Wikipedia('en')\n",
    "        page = wiki_crawler.page(wiki_page.title)\n",
    "\n",
    "        content_out = ['See also','Further reading', 'External links', 'References', 'Notes']\n",
    "        contents = []\n",
    "        text_contents = []\n",
    "        regex = re.compile(r'[\\n\\r\\t]')\n",
    "\n",
    "        wiki_page = page\n",
    "        for section in wiki_page.sections:\n",
    "            if((section.text) != \"\"):\n",
    "                flag_out = 0\n",
    "                for check_out in content_out:\n",
    "                    if(check_out == section.title):\n",
    "                        flag_out = 1\n",
    "                        break\n",
    "                if(flag_out == 0):\n",
    "                    contents.append(section.title)\n",
    "                    text_contents.append(regex.sub(\"\", section.text))\n",
    "\n",
    "        hlinks = []\n",
    "        hlinks = (wiki_page.links)\n",
    "        if word in hlinks:\n",
    "            hlinks.remove(word)\n",
    "        st1 = str(wiki_page.title)\n",
    "\n",
    "        similarities = {}\n",
    "        for item in hlinks:\n",
    "            text2 = item\n",
    "            seq = difflib.SequenceMatcher(None,st1,text2)\n",
    "            data = {text2:seq.ratio()*100}\n",
    "            similarities.update(data)\n",
    "\n",
    "        dict_ = {}\n",
    "\n",
    "        n_included_ = ['See also','Further reading', 'External links', 'References', 'Notes']\n",
    "        for section in page.sections:\n",
    "            if (section.title not in n_included_):\n",
    "                char_counter = 4\n",
    "                data = {section.title:section.text}\n",
    "                dict_.update(data)\n",
    "\n",
    "\n",
    "        entities = (sorted(similarities, key=similarities.get, reverse=True)[:5])\n",
    "\n",
    "        return entities, data, contents, text_contents, hlinks"
   ]
  }
 ],
 "metadata": {
  "kernelspec": {
   "display_name": "Python 3",
   "language": "python",
   "name": "python3"
  },
  "language_info": {
   "codemirror_mode": {
    "name": "ipython",
    "version": 3
   },
   "file_extension": ".py",
   "mimetype": "text/x-python",
   "name": "python",
   "nbconvert_exporter": "python",
   "pygments_lexer": "ipython3",
   "version": "3.7.1"
  }
 },
 "nbformat": 4,
 "nbformat_minor": 2
}
